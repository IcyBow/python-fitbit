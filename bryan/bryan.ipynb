{
 "cells": [
  {
   "cell_type": "markdown",
   "metadata": {},
   "source": [
    "https://python-fitbit.readthedocs.io/en/latest/ -- Docs fitbit lib\n",
    "https://coder.com/docs/code-server/latest/install#docker - Install VS CODE\n",
    "\n"
   ]
  },
  {
   "cell_type": "markdown",
   "metadata": {},
   "source": [
    "# Test from another user"
   ]
  },
  {
   "cell_type": "code",
   "execution_count": 4,
   "metadata": {},
   "outputs": [],
   "source": [
    "import datetime\n",
    "import fitbit\n",
    "import json\n",
    "\n",
    "\n",
    "def refresh_callback(token):\n",
    "    f_data = {\n",
    "        'access_token': token['access_token'],\n",
    "        'refresh_token': token['refresh_token'],\n",
    "        'expires_at': token['expires_at']\n",
    "    }\n",
    "\n",
    "    with open('access_token_cache_file.json', 'w') as outfile:\n",
    "        json.dump(f_data, outfile)\n",
    "\n",
    "with open('fitbit_config.json') as json_file:\n",
    "    data = json.load(json_file)\n",
    "    consumer_key = data['fitbit']['consumer_key']\n",
    "    consumer_secret = data['fitbit']['consumer_secret']\n",
    "\n",
    "with open('access_token_cache_file.json') as json_file:\n",
    "    data = json.load(json_file)\n",
    "    access_token = data['access_token']\n",
    "    refresh_token = data['refresh_token']\n",
    "    expires_at = data['expires_at']\n",
    "\n",
    "client = fitbit.Fitbit(consumer_key, consumer_secret, access_token=access_token, refresh_token=refresh_token,\n",
    "                       expires_at=expires_at, refresh_cb=refresh_callback)\n",
    "\n",
    "activities = client.activities(datetime.date.today().strftime(\"%Y-%m-%d\"))"
   ]
  },
  {
   "cell_type": "code",
   "execution_count": 5,
   "metadata": {},
   "outputs": [
    {
     "name": "stdout",
     "output_type": "stream",
     "text": [
      "1367\n"
     ]
    }
   ],
   "source": [
    "print(activities['summary']['caloriesOut'])"
   ]
  },
  {
   "cell_type": "code",
   "execution_count": 50,
   "metadata": {},
   "outputs": [
    {
     "name": "stdout",
     "output_type": "stream",
     "text": [
      "2023-12-27\n",
      "the counter is 2 and the next day:2023-12-28\n",
      "[(1, '2023-11-20', 2640, 987, 1751, 1587, 0, 1053, 39, 179, None, 15, 63, None), (2, '2023-11-21', 3094, 1530, 1751, 2402, 0, 692, 108, 157, None, 11, 119, None), (3, '2023-11-22', 3062, 1586, 1749, 1714, 0, 1348, 54, 183, None, 13, 70, None), (4, '2023-11-23', 2993, 1459, 1748, 1690, 0, 1303, 54, 166, None, 16, 56, None), (5, '2023-11-24', 3833, 2220, 1747, 2638, 0, 1195, 104, 305, None, 31, 93, None), (6, '2023-11-25', 3121, 1660, 1747, 1903, 0, 1218, 91, 152, None, 6, 75, None), (7, '2023-11-26', 2755, 1239, 1747, 2718, 0, 37, 166, 223, None, 8, 98, None), (8, '2023-11-27', 2410, 771, 1746, 1876, 0, 534, 71, 192, None, 11, 41, None), (9, '2023-11-28', 2931, 1438, 1741, 2071, 0, 860, 75, 205, None, 4, 75, None), (10, '2023-11-29', 2793, 1185, 1739, 1306, 0, 1487, 37, 121, None, 15, 59, None), (11, '2023-11-30', 3362, 1891, 1738, 1302, 0, 2060, 36, 116, None, 14, 65, None), (12, '2023-12-01', 2782, 1179, 1737, 1383, 0, 1399, 38, 134, None, 15, 58, None), (13, '2023-12-02', 3299, 1852, 1737, 2731, 0, 568, 100, 398, None, 18, 66, None), (14, '2023-12-03', 3536, 2214, 1737, 2238, 0, 1298, 99, 242, None, 11, 59, None), (15, '2023-12-04', 2856, 1310, 1737, 1390, 0, 1466, 58, 181, None, 18, 46, None), (16, '2023-12-05', 3320, 1834, 1737, 2511, 0, 809, 118, 191, None, 8, 128, None), (17, '2023-12-06', 2858, 1341, 1736, 1758, 0, 1100, 123, 155, None, 18, 65, None), (18, '2023-12-07', 3054, 1518, 1736, 2883, 0, 171, 147, 137, None, 6, 106, None), (19, '2023-12-08', 2774, 1251, 1736, 2216, 0, 558, 159, 171, None, 10, 90, None), (20, '2023-12-09', 2806, 1319, 1736, 2585, 0, 221, 103, 172, None, 12, 148, None), (21, '2023-12-10', 4068, 2805, 1735, 2000, 0, 2068, 66, 118, None, 1, 47, None), (22, '2023-12-11', 2965, 1427, 1733, 1487, 0, 1478, 66, 174, None, 16, 99, None), (23, '2023-12-12', 3467, 2014, 1732, 1946, 0, 1521, 151, 187, None, 31, 63, None), (24, '2023-12-13', 3078, 1671, 1731, 1374, 0, 1704, 112, 80, None, 14, 63, None), (25, '2023-12-14', 3943, 2725, 1731, 1912, 0, 2031, 89, 77, None, 5, 106, None), (26, '2023-12-15', 3179, 1672, 1731, 1966, 0, 1213, 126, 166, None, 8, 56, None), (27, '2023-12-16', 3709, 2368, 1730, 2782, 0, 927, 154, 205, None, 15, 114, None), (28, '2023-12-17', 2993, 1540, 1730, 2563, 0, 430, 269, 300, None, 11, 171, None), (29, '2023-12-18', 3072, 1650, 1730, 1959, 0, 1113, 76, 86, None, 6, 117, None), (30, '2023-12-19', 3287, 1851, 1730, 2090, 0, 1197, 153, 175, None, 19, 65, None), (31, '2023-12-20', 2900, 1339, 1730, 2808, 0, 92, 147, 262, None, 22, 112, None), (32, '2023-12-21', 2964, 1379, 1730, 1406, 0, 1558, 94, 92, None, 5, 54, None), (33, '2023-12-22', 3351, 1918, 1730, 1846, 0, 1505, 82, 97, None, 13, 103, None), (34, '2023-12-23', 3015, 1503, 1730, 2569, 0, 446, 158, 153, None, 16, 133, None), (35, '2023-12-24', 2414, 661, 1730, 0, 0, 2414, 0, 0, None, 0, 0, None), (36, '2023-12-25', 2238, 475, 1730, 1049, 0, 1189, 57, 107, None, 4, 33, None), (37, '2023-12-26', 3072, 1571, 1730, 2004, 0, 1068, 76, 269, None, 18, 60, None), (38, '2023-12-27', 719, 64, 664, 0, 0, 719, 0, 0, None, 0, 0, None), (39, '2023-12-28', None, None, None, None, None, None, None, None, None, None, None, None)]\n"
     ]
    },
    {
     "ename": "OperationalError",
     "evalue": "database is locked",
     "output_type": "error",
     "traceback": [
      "\u001b[0;31m---------------------------------------------------------------------------\u001b[0m",
      "\u001b[0;31mOperationalError\u001b[0m                          Traceback (most recent call last)",
      "Cell \u001b[0;32mIn[50], line 25\u001b[0m\n\u001b[1;32m     22\u001b[0m rows \u001b[38;5;241m=\u001b[39m cursor\u001b[38;5;241m.\u001b[39mexecute(\u001b[38;5;124m\"\u001b[39m\u001b[38;5;124mSELECT * FROM nutrition ORDER by date ASC\u001b[39m\u001b[38;5;124m\"\u001b[39m)\u001b[38;5;241m.\u001b[39mfetchall()\n\u001b[1;32m     23\u001b[0m \u001b[38;5;28mprint\u001b[39m(rows)\n\u001b[0;32m---> 25\u001b[0m \u001b[43mconnection\u001b[49m\u001b[38;5;241;43m.\u001b[39;49m\u001b[43mcommit\u001b[49m\u001b[43m(\u001b[49m\u001b[43m)\u001b[49m\n",
      "\u001b[0;31mOperationalError\u001b[0m: database is locked"
     ]
    }
   ],
   "source": [
    "import sqlite3\n",
    "import time\n",
    "\n",
    "connection = sqlite3.connect(\"wlc.db\")\n",
    "cursor = connection.cursor()\n",
    "\n",
    "# Fill missing days\n",
    "today = datetime.date.today()\n",
    "query = \"SELECT MAX(date) FROM nutrition\"\n",
    "start_date = datetime.datetime.strptime(cursor.execute(query).fetchall()[0][0], \"%Y-%m-%d\").date()\n",
    "print(start_date)\n",
    "if (start_date < today):\n",
    "    counter = 1\n",
    "    next_day = start_date\n",
    "    while (next_day < today):\n",
    "        next_day += datetime.timedelta(days=counter)\n",
    "        counter += 1\n",
    "        print(\"the counter is \" + str(counter) + \" and the next day:\" + next_day.strftime(\"%Y-%m-%d\"))\n",
    "        cursor.execute(\"INSERT INTO nutrition(date) VALUES('\" + (next_day.strftime(\"%Y-%m-%d\") + \"')\"))\n",
    "\n",
    "# Treatment\n",
    "rows = cursor.execute(\"SELECT * FROM nutrition ORDER by date ASC\").fetchall()\n",
    "print(rows)\n",
    "\n",
    "connection.commit()\n"
   ]
  },
  {
   "cell_type": "code",
   "execution_count": null,
   "metadata": {},
   "outputs": [],
   "source": [
    "connection.close()"
   ]
  }
 ],
 "metadata": {
  "kernelspec": {
   "display_name": "Python 3",
   "language": "python",
   "name": "python3"
  },
  "language_info": {
   "codemirror_mode": {
    "name": "ipython",
    "version": 3
   },
   "file_extension": ".py",
   "mimetype": "text/x-python",
   "name": "python",
   "nbconvert_exporter": "python",
   "pygments_lexer": "ipython3",
   "version": "3.10.13"
  }
 },
 "nbformat": 4,
 "nbformat_minor": 2
}
